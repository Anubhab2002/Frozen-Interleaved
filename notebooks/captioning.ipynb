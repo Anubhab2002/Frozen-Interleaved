{
 "cells": [
  {
   "cell_type": "code",
   "execution_count": 1,
   "id": "a991c71e",
   "metadata": {},
   "outputs": [],
   "source": [
    "%load_ext autoreload\n",
    "%autoreload 2"
   ]
  },
  {
   "cell_type": "code",
   "execution_count": 2,
   "id": "27f631bc",
   "metadata": {},
   "outputs": [],
   "source": [
    "import os\n",
    "import os.path as osp\n",
    "import urllib\n",
    "from PIL import Image\n",
    "import torch\n",
    "from transformers import AutoTokenizer, AutoFeatureExtractor\n",
    "from frozen.experiment import Experiment\n",
    "from frozen.data import COCODataset, CC3MDataset, IMAGE_TOKEN, SPECIAL_TOKEN_DICT"
   ]
  },
  {
   "cell_type": "code",
   "execution_count": 3,
   "id": "73f5644d",
   "metadata": {},
   "outputs": [
    {
     "name": "stdout",
     "output_type": "stream",
     "text": [
      "'/teamspace/studios/this_studio/logs/run-sample-CCM/1.0.0/checkpoints/epoch=0-step=2.ckpt'\n"
     ]
    }
   ],
   "source": [
    "!ls /teamspace/studios/this_studio/logs/run-sample-CCM/1.0.0/checkpoints/epoch=0-step=2.ckpt"
   ]
  },
  {
   "cell_type": "code",
   "execution_count": 3,
   "id": "6e903219",
   "metadata": {},
   "outputs": [
    {
     "name": "stderr",
     "output_type": "stream",
     "text": [
      "Some weights of the model checkpoint at microsoft/resnet-50 were not used when initializing ResNetModel: ['classifier.1.weight', 'classifier.1.bias']\n",
      "- This IS expected if you are initializing ResNetModel from the checkpoint of a model trained on another task or with another architecture (e.g. initializing a BertForSequenceClassification model from a BertForPreTraining model).\n",
      "- This IS NOT expected if you are initializing ResNetModel from the checkpoint of a model that you expect to be exactly identical (initializing a BertForSequenceClassification model from a BertForSequenceClassification model).\n"
     ]
    }
   ],
   "source": [
    "ckpt_path = \"/teamspace/studios/this_studio/Frozen-Interleaved/frozen/wandb/run-20241212_080250-2c5rec8q/files/checkpoints/epoch=0-step=250.ckpt\"\n",
    "# ckpt_path = osp.abspath(osp.expanduser(ckpt_path))\n",
    "device = 'cuda:0'\n",
    "experiment = Experiment.load_from_checkpoint(ckpt_path).half().to(device)"
   ]
  },
  {
   "cell_type": "code",
   "execution_count": 4,
   "id": "2dbdbf9d",
   "metadata": {},
   "outputs": [],
   "source": [
    "image_encoder = experiment.model.config['image_encoder']\n",
    "text_encoder = experiment.model.config['text_encoder']\n",
    "feature_extractor = AutoFeatureExtractor.from_pretrained(image_encoder)\n",
    "tokenizer = AutoTokenizer.from_pretrained(text_encoder)\n",
    "num_image_tokens = experiment.model.config['num_image_tokens']\n",
    "if not IMAGE_TOKEN in tokenizer.all_special_tokens:\n",
    "    tokenizer.add_special_tokens(SPECIAL_TOKEN_DICT)"
   ]
  },
  {
   "cell_type": "code",
   "execution_count": 6,
   "id": "4c85ba1d",
   "metadata": {},
   "outputs": [
    {
     "name": "stderr",
     "output_type": "stream",
     "text": [
      "WARNING:root:num_image_tokens = 2\n"
     ]
    }
   ],
   "source": [
    "data = DCCDataset(\n",
    "    path='/teamspace/studios/this_studio/DialogCC/DialogCC',\n",
    "    split='train'\n",
    "    image_transform=feature_extractor,\n",
    "    tokenizer=tokenizer,\n",
    "    num_image_tokens=num_image_tokens,\n",
    ")\n",
    "# )/teamspace/studios/this_studio/Frozen-Interleaved/frozen/datasets/conceptualcaptions/script/DownloadConceptualCaptions/sample_validation.tsv"
   ]
  },
  {
   "cell_type": "code",
   "execution_count": 7,
   "id": "3d5d8942",
   "metadata": {},
   "outputs": [
    {
     "data": {
      "text/plain": [
       "{'pixel_values': tensor([[[[-1.9467, -1.9638, -1.9809,  ..., -2.0152, -2.0152, -2.0152],\n",
       "           [-1.9638, -1.9467, -1.9467,  ..., -2.0152, -1.9980, -1.9809],\n",
       "           [-1.9467, -1.9295, -1.9295,  ..., -1.9980, -1.9809, -1.9809],\n",
       "           ...,\n",
       "           [-1.8782, -1.8953, -1.9124,  ..., -2.0665, -2.0665, -2.0494],\n",
       "           [-1.9467, -1.9467, -1.9638,  ..., -2.0665, -2.0665, -2.0494],\n",
       "           [-1.9809, -1.9638, -1.9809,  ..., -2.0665, -2.0665, -2.0665]],\n",
       " \n",
       "          [[-1.8606, -1.8782, -1.8957,  ..., -1.9307, -1.9307, -1.9307],\n",
       "           [-1.8782, -1.8606, -1.8606,  ..., -1.9307, -1.9132, -1.8957],\n",
       "           [-1.8606, -1.8431, -1.8431,  ..., -1.9132, -1.8957, -1.8957],\n",
       "           ...,\n",
       "           [-1.7906, -1.8081, -1.8256,  ..., -1.9832, -1.9832, -1.9657],\n",
       "           [-1.8606, -1.8606, -1.8782,  ..., -1.9832, -1.9832, -1.9657],\n",
       "           [-1.8957, -1.8782, -1.8957,  ..., -1.9832, -1.9832, -1.9832]],\n",
       " \n",
       "          [[-1.6302, -1.6476, -1.6650,  ..., -1.6999, -1.6999, -1.6999],\n",
       "           [-1.6476, -1.6302, -1.6302,  ..., -1.6999, -1.6824, -1.6650],\n",
       "           [-1.6302, -1.6127, -1.6127,  ..., -1.6824, -1.6650, -1.6650],\n",
       "           ...,\n",
       "           [-1.5604, -1.5779, -1.5953,  ..., -1.7522, -1.7522, -1.7347],\n",
       "           [-1.6302, -1.6302, -1.6476,  ..., -1.7522, -1.7522, -1.7347],\n",
       "           [-1.6650, -1.6476, -1.6650,  ..., -1.7522, -1.7522, -1.7522]]]]),\n",
       " 'caption': 'author : a life in photography -- in pictures',\n",
       " 'input_ids': tensor([[50265, 50265,     2, 11515,  4832,    10,   301,    11, 11075,   480,\n",
       "             11,  3493]]),\n",
       " 'attention_mask': tensor([[1, 1, 1, 1, 1, 1, 1, 1, 1, 1, 1, 1]]),\n",
       " 'image_token_mask': tensor([[1, 1, 0, 0, 0, 0, 0, 0, 0, 0, 0, 0]]),\n",
       " 'item_id': 0,\n",
       " 'image_id': -1,\n",
       " 'caption_id': -1,\n",
       " 'raw_image': <PIL.JpegImagePlugin.JpegImageFile image mode=RGB size=736x736>}"
      ]
     },
     "execution_count": 7,
     "metadata": {},
     "output_type": "execute_result"
    }
   ],
   "source": [
    "# data.image_token_id\n",
    "data[0]"
   ]
  },
  {
   "cell_type": "code",
   "execution_count": 8,
   "id": "08569c72",
   "metadata": {},
   "outputs": [
    {
     "name": "stdout",
     "output_type": "stream",
     "text": [
      "\n",
      "\n"
     ]
    }
   ],
   "source": [
    "print(tokenizer.decode(50118))"
   ]
  },
  {
   "cell_type": "code",
   "execution_count": 9,
   "id": "8273efb6",
   "metadata": {
    "scrolled": false
   },
   "outputs": [
    {
     "name": "stdout",
     "output_type": "stream",
     "text": [
      "<image> <image>Image of life in photography with cinematic tone<image> <image>What is this image?\n",
      "[(tensor(2), '</s>'), (tensor(50265), '<image>'), (tensor(50265), '<image>'), (tensor(8532), 'Image'), (tensor(9), ' of'), (tensor(301), ' life'), (tensor(11), ' in'), (tensor(11075), ' photography'), (tensor(19), ' with'), (tensor(25306), ' cinematic'), (tensor(6328), ' tone'), (tensor(50265), '<image>'), (tensor(50265), '<image>'), (tensor(2264), 'What'), (tensor(16), ' is'), (tensor(42), ' this'), (tensor(2274), ' image'), (tensor(116), '?')]\n",
      "50265\n",
      "tensor([[False,  True,  True, False, False, False, False, False, False, False,\n",
      "         False,  True,  True, False, False, False, False, False]])\n"
     ]
    },
    {
     "name": "stdout",
     "output_type": "stream",
     "text": [
      "BeamSearchDecoderOnlyOutput(sequences=tensor([[    2, 50265, 50265,  8532,     9,   301,    11, 11075,    19, 25306,\n",
      "          6328, 50265, 50265,  2264,    16,    42,  2274,   116, 50118, 50118]],\n",
      "       device='cuda:0'), sequences_scores=None, scores=None, beam_indices=None, attentions=None, hidden_states=None)\n",
      "Image of life in photography with cinematic toneWhat is this image?\n",
      "\n",
      "\n"
     ]
    }
   ],
   "source": [
    "# Few shot\n",
    "item0 = data[0]\n",
    "prompt = ' '.join([IMAGE_TOKEN for i in range(num_image_tokens)]) + 'Image of life in photography with cinematic tone'\n",
    "item = data[1] # image\n",
    "prompt += ' '.join([IMAGE_TOKEN for i in range(num_image_tokens)]) + 'What is this image?'\n",
    "print(prompt)\n",
    "tokens = data.tokenizer(prompt)\n",
    "input_ids = torch.tensor(tokens['input_ids']).unsqueeze(0)\n",
    "decoded_pairs = [(token_id, data.tokenizer.decode([token_id])) for token_id in input_ids[0]]\n",
    "print(decoded_pairs)\n",
    "attention_mask = torch.tensor(tokens['attention_mask']).unsqueeze(0)\n",
    "# attention_mask = torch.tensor([1, 1, 1]).unsqueeze(0)\n",
    "# inputs = data.tokenizer(prompt, return_tensors='pt')\n",
    "image_token_id = data.tokenizer.convert_tokens_to_ids(IMAGE_TOKEN)\n",
    "print(image_token_id)\n",
    "image_token_mask = input_ids == image_token_id\n",
    "print(image_token_mask)\n",
    "\n",
    "kwargs = {\n",
    "    'pixel_values': torch.concat([item0['pixel_values'].half().to(device), item['pixel_values'].half().to(device)], axis=0),\n",
    "    'input_ids': input_ids.to(device),\n",
    "    'attention_mask': attention_mask.to(device),\n",
    "    'image_token_mask': image_token_mask.long().to(device),\n",
    "    'num_beams': 5,\n",
    "}\n",
    "with torch.no_grad():\n",
    "    experiment.model.eval()\n",
    "    output = experiment.model.generate(**kwargs)\n",
    "\n",
    "print(output)\n",
    "\n",
    "decoded = tokenizer.batch_decode(\n",
    "    output.sequences,  # filter out None values\n",
    "    skip_special_tokens=True,\n",
    "    clean_up_tokenization_spaces=False,\n",
    ")\n",
    "\n",
    "# display(item['raw_image'])\n",
    "print(decoded[0])"
   ]
  },
  {
   "cell_type": "code",
   "execution_count": 11,
   "id": "860ff0c5",
   "metadata": {},
   "outputs": [
    {
     "data": {
      "text/plain": [
       "{'pixel_values': tensor([[[[ 0.9303,  0.8104,  0.7591,  ...,  1.0331,  1.0331,  1.0331],\n",
       "           [ 0.9817,  0.9988,  0.9646,  ...,  1.0673,  1.0502,  1.0331],\n",
       "           [ 0.9303,  0.9474,  1.0159,  ...,  1.0673,  1.0331,  1.0159],\n",
       "           ...,\n",
       "           [ 1.2214,  1.2728,  1.2214,  ...,  1.3413,  1.2214,  1.2043],\n",
       "           [ 1.2728,  1.2728,  1.3070,  ...,  1.2899,  1.3927,  1.3755],\n",
       "           [ 1.3070,  1.2899,  1.2728,  ...,  1.2214,  1.3242,  1.3927]],\n",
       " \n",
       "          [[ 0.7479,  0.6254,  0.5553,  ...,  1.0980,  1.0980,  1.0980],\n",
       "           [ 0.8179,  0.8354,  0.8004,  ...,  1.1331,  1.1155,  1.0980],\n",
       "           [ 0.7829,  0.8004,  0.8704,  ...,  1.1331,  1.0980,  1.0805],\n",
       "           ...,\n",
       "           [ 0.2752,  0.3277,  0.2752,  ...,  0.6078,  0.5028,  0.4853],\n",
       "           [ 0.3277,  0.3277,  0.3627,  ...,  0.5203,  0.6429,  0.6429],\n",
       "           [ 0.3803,  0.3452,  0.3277,  ...,  0.4503,  0.5553,  0.6254]],\n",
       " \n",
       "          [[ 0.8448,  0.7228,  0.6182,  ...,  1.2631,  1.2631,  1.2631],\n",
       "           [ 0.8971,  0.9145,  0.8797,  ...,  1.2980,  1.2805,  1.2631],\n",
       "           [ 0.8622,  0.8797,  0.9494,  ...,  1.2980,  1.2631,  1.2457],\n",
       "           ...,\n",
       "           [-0.4101, -0.3753, -0.4275,  ..., -0.0441, -0.1312, -0.0964],\n",
       "           [-0.3578, -0.3753, -0.3404,  ..., -0.1312,  0.0082,  0.0431],\n",
       "           [-0.3055, -0.3578, -0.3753,  ..., -0.2358, -0.0964,  0.0256]]]]),\n",
       " 'caption': 'the - bedroom stone cottage can sleep people',\n",
       " 'input_ids': tensor([[50265, 50265,     2,   627,   111,  8140,  7326, 25971,    64,  3581,\n",
       "             82]]),\n",
       " 'attention_mask': tensor([[1, 1, 1, 1, 1, 1, 1, 1, 1, 1, 1]]),\n",
       " 'image_token_mask': tensor([[1, 1, 0, 0, 0, 0, 0, 0, 0, 0, 0]]),\n",
       " 'item_id': 1,\n",
       " 'image_id': -1,\n",
       " 'caption_id': -1,\n",
       " 'raw_image': <PIL.JpegImagePlugin.JpegImageFile image mode=RGB size=634x477>}"
      ]
     },
     "execution_count": 11,
     "metadata": {},
     "output_type": "execute_result"
    }
   ],
   "source": [
    "item"
   ]
  },
  {
   "cell_type": "code",
   "execution_count": 63,
   "id": "1ae626b9",
   "metadata": {},
   "outputs": [
    {
     "data": {
      "text/plain": [
       "torch.Size([2, 3, 224, 224])"
      ]
     },
     "execution_count": 63,
     "metadata": {},
     "output_type": "execute_result"
    }
   ],
   "source": [
    "torch.concat([item['pixel_values'].half().to(device), item['pixel_values'].half().to(device)], axis=0).shape"
   ]
  },
  {
   "cell_type": "code",
   "execution_count": null,
   "id": "3ec8e947",
   "metadata": {},
   "outputs": [],
   "source": []
  }
 ],
 "metadata": {
  "@webio": {
   "lastCommId": null,
   "lastKernelId": null
  },
  "kernelspec": {
   "display_name": "Python (frozen)",
   "language": "python",
   "name": "frozen"
  },
  "language_info": {
   "codemirror_mode": {
    "name": "ipython",
    "version": 3
   },
   "file_extension": ".py",
   "mimetype": "text/x-python",
   "name": "python",
   "nbconvert_exporter": "python",
   "pygments_lexer": "ipython3",
   "version": "3.10.4"
  }
 },
 "nbformat": 4,
 "nbformat_minor": 5
}
